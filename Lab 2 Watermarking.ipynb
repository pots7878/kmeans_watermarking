{
 "cells": [
  {
   "cell_type": "code",
   "execution_count": 26,
   "metadata": {
    "scrolled": false
   },
   "outputs": [],
   "source": [
    "import numpy as np\n",
    "import matplotlib.pyplot as plt\n",
    "from PIL import Image\n",
    "%matplotlib inline\n",
    "\n",
    "# smiley = np.array(Image.open('smiley.jpg'))"
   ]
  },
  {
   "cell_type": "code",
   "execution_count": 25,
   "metadata": {
    "scrolled": true
   },
   "outputs": [],
   "source": [
    "def readImage(img):\n",
    "    \n",
    "    #preallocate size for X\n",
    "    X = np.zeros([256, 1024])\n",
    "    \n",
    "    #initialize k \n",
    "    k = 0\n",
    "    \n",
    "    #step size \n",
    "    step = 16\n",
    "\n",
    "    #loop through pixels of image \n",
    "    for i in range(0, 512, step):\n",
    "        for j in range(0, 512, step):\n",
    "            #split into 1024 blocks of 16x16\n",
    "            block = img[i:i+step, j:j+step]\n",
    "            #reshape each block into a vector of length 256\n",
    "            X[:,k] = np.reshape(block, (1, 256))#total of 1024 vectors\n",
    "            #sum up k\n",
    "            k +=1\n",
    "            \n",
    "    #return 1024 vectors of length 256\n",
    "    return X"
   ]
  },
  {
   "cell_type": "code",
   "execution_count": 34,
   "metadata": {},
   "outputs": [],
   "source": [
    "#function to calculate the closest centroids \n",
    "def closestCentroids(img, centroids):\n",
    "    \n",
    "    #initialize empty list to hold minimum generators \n",
    "    generator = []\n",
    "    \n",
    "    #for loop to dynamically create generator lists\n",
    "    #for different number of clusters \n",
    "    for i in range(len(centroids)):\n",
    "        generator.append([])\n",
    "        \n",
    "    #iterate through length of the original image \n",
    "    for i in range(len(img)):\n",
    "        \n",
    "        #variable iterates and stores each row of image matrix \n",
    "        vals = img[i]\n",
    "        \n",
    "        #using list comprehension to calculate the euclidean distance from image and each centroid \n",
    "        euclid = [abs(vals[0] - centroids[j][0]) + abs(vals[1] - centroids[j][1])\n",
    "                  + abs(vals[2] - centroids[j][2]) for j in range(len(centroids))]\n",
    "        \n",
    "        #add min euclidian distance \n",
    "        generator[np.argmin(euclid)].append(vals)\n",
    "    \n",
    "    #return min generators \n",
    "    return generator"
   ]
  },
  {
   "cell_type": "code",
   "execution_count": 35,
   "metadata": {},
   "outputs": [],
   "source": [
    "#function to update generators for each iteration of k means \n",
    "def updateGenerators(generator, nclusters):\n",
    "    \n",
    "    #empty array to hold new generators \n",
    "    new_generators = []\n",
    "    \n",
    "    #loop through the length of number of clusters \n",
    "    for i in range(nclusters):\n",
    "        \n",
    "        #append the average generator for each dimension \n",
    "        #return a vector with 3 vals \n",
    "        new_generators.append(np.average(np.array(generator[i]),axis=0))\n",
    "        \n",
    "    #return new generators \n",
    "    return new_generators"
   ]
  },
  {
   "cell_type": "code",
   "execution_count": 36,
   "metadata": {},
   "outputs": [],
   "source": [
    "#import external modules \n",
    "import random\n",
    "\n",
    "#function to perform k means clustering \n",
    "def kmeans(img, nclusters):\n",
    "    \n",
    "    #create initial generators from original image matrix \n",
    "    generator = random.sample(img.tolist(), nclusters)\n",
    "    \n",
    "    #define iterations \n",
    "    iterations = 10\n",
    "    \n",
    "    #run k means for 10 iterations \n",
    "    for i in range(iterations):\n",
    "        \n",
    "        #calculate closest generators  \n",
    "        generator= closestCentroids(img, generator)\n",
    "        #update new generators \n",
    "        generator = updateGenerators(generator, nclusters)\n",
    "        \n",
    "    return generator"
   ]
  },
  {
   "cell_type": "code",
   "execution_count": 50,
   "metadata": {},
   "outputs": [],
   "source": [
    "#function to return image to original shape \n",
    "def replacePixel(img, generator):\n",
    "    \n",
    "    #initialize empty matrix the same size as \n",
    "    #the original image matrix \n",
    "    new_img = np.zeros(img.shape)\n",
    "    \n",
    "    #iterate fot the length of the original matrix \n",
    "    for i in range(len(img)):\n",
    "        \n",
    "        #variable iterates and stores each row of pixels \n",
    "        vals = img[i]\n",
    "        \n",
    "        #calculate euclidean distance \n",
    "        euclid = [abs(vals[0] - generator[j][0]) + abs(vals[1] - generator[j][1])\n",
    "                  + abs(vals[2] - generator[j][2]) for j in range(len(generator))]\n",
    "\n",
    "        #construct new image matrix \n",
    "        new_img[i,:]=generator[np.argmin(euclid)]\n",
    "        \n",
    "    #return new image \n",
    "    return new_img"
   ]
  },
  {
   "cell_type": "code",
   "execution_count": 51,
   "metadata": {},
   "outputs": [],
   "source": [
    "#function to plot new image vs original image for different number of k \n",
    "def plotImages(new_image, nclusters):\n",
    "    \n",
    "    original_image = np.array(Image.open('mandrill.png'))\n",
    "\n",
    "    fig, ax = plt.subplots(1, 2, figsize=(20,20))\n",
    "    ax[0].imshow(new_image)\n",
    "    ax[0].set_title('Compressed Image when k = ' + str(nclusters), fontsize=18)\n",
    "    ax[1].imshow(original_image) \n",
    "    ax[1].set_title('Original Image', fontsize=18)\n",
    "    plt.show()"
   ]
  },
  {
   "cell_type": "code",
   "execution_count": 53,
   "metadata": {},
   "outputs": [],
   "source": [
    "#read in original image \n",
    "img = np.array(Image.open('TrumanEatsLunch.jpg'))\n",
    "image = readImage(img)\n",
    "\n",
    "#kmeans with 2 clusters \n",
    "nclusters = 20\n",
    "generator_2 = kmeans(image, nclusters)\n",
    "\n",
    "# #reconstruct new image\n",
    "# new_img = replacePixel(img, generator_2)\n",
    "# #reshape\n",
    "# new_img=np.reshape(new_img, (512,512,3))\n",
    "# #plot compared images \n",
    "# plotImages(new_img, 2)"
   ]
  },
  {
   "cell_type": "code",
   "execution_count": 48,
   "metadata": {},
   "outputs": [
    {
     "data": {
      "text/plain": [
       "[array([215.33333333,  78.33333333,  72.        , ...,  39.33333333,\n",
       "         39.66666667,  34.33333333]),\n",
       " array([122.09090909,  70.90909091,  73.45454545, ...,  36.45454545,\n",
       "         38.45454545,  37.72727273]),\n",
       " array([83.05263158, 74.        , 59.73684211, ..., 38.47368421,\n",
       "        39.36842105, 36.31578947]),\n",
       " array([38.9047619 , 37.42857143, 35.        , ..., 43.19047619,\n",
       "        40.47619048, 46.57142857]),\n",
       " array([227.5  ,  85.625,  59.   , ...,  41.125,  40.625,  42.125]),\n",
       " array([235.6,  94.4,  82.9, ...,  37.8,  37.5,  40.3]),\n",
       " array([238.94117647,  85.52941176,  73.29411765, ...,  39.82352941,\n",
       "         39.58823529,  38.52941176]),\n",
       " array([149. ,  46.5,  34.5, ...,  39. ,  41.5,  39.5]),\n",
       " array([115.30434783,  90.91304348,  84.13043478, ...,  37.82608696,\n",
       "         39.34782609,  29.7826087 ]),\n",
       " array([241.28571429,  56.42857143,  37.71428571, ...,  39.42857143,\n",
       "         41.14285714,  46.57142857]),\n",
       " array([240.5       ,  40.54545455,  33.22727273, ...,  39.31818182,\n",
       "         43.45454545,  46.81818182]),\n",
       " array([47.59090909, 35.04545455, 32.13636364, ..., 42.86363636,\n",
       "        40.31818182, 36.63636364]),\n",
       " array([79.11764706, 55.23529412, 45.58823529, ..., 44.23529412,\n",
       "        38.88235294, 35.05882353]),\n",
       " array([241.81818182,  87.36363636,  54.63636364, ...,  38.18181818,\n",
       "         39.54545455,  45.54545455]),\n",
       " array([216.3,  41.5,  33.7, ...,  40.3,  42.5,  46.3]),\n",
       " array([66.    , 40.75  , 34.4375, ..., 44.5   , 36.9375, 35.3125]),\n",
       " array([93.41176471, 79.23529412, 78.47058824, ..., 37.94117647,\n",
       "        40.35294118, 34.64705882]),\n",
       " array([235.   ,  60.5  ,  76.375, ...,  39.375,  34.125,  37.125]),\n",
       " array([234.22222222,  68.66666667,  44.33333333, ...,  39.66666667,\n",
       "         40.33333333,  46.11111111]),\n",
       " array([240.33333333, 102.33333333, 106.        , ...,  40.66666667,\n",
       "         34.66666667,  37.66666667])]"
      ]
     },
     "execution_count": 48,
     "metadata": {},
     "output_type": "execute_result"
    }
   ],
   "source": [
    "generator_2"
   ]
  },
  {
   "cell_type": "code",
   "execution_count": null,
   "metadata": {},
   "outputs": [],
   "source": []
  }
 ],
 "metadata": {
  "kernelspec": {
   "display_name": "Python 3",
   "language": "python",
   "name": "python3"
  },
  "language_info": {
   "codemirror_mode": {
    "name": "ipython",
    "version": 3
   },
   "file_extension": ".py",
   "mimetype": "text/x-python",
   "name": "python",
   "nbconvert_exporter": "python",
   "pygments_lexer": "ipython3",
   "version": "3.7.4"
  }
 },
 "nbformat": 4,
 "nbformat_minor": 2
}
